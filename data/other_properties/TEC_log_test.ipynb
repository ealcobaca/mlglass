{
 "cells": [
  {
   "cell_type": "code",
   "execution_count": 1,
   "metadata": {},
   "outputs": [],
   "source": [
    "import numpy as np\n",
    "import pandas as pd\n",
    "from sklearn.model_selection import KFold\n",
    "from sklearn.ensemble import RandomForestRegressor"
   ]
  },
  {
   "cell_type": "code",
   "execution_count": 2,
   "metadata": {},
   "outputs": [],
   "source": [
    "def relative_deviation(obs, pred):\n",
    "    return np.sum(np.abs(obs-pred)/obs)/len(obs) * 100\n",
    "\n",
    "\n",
    "def R2(target, pred):\n",
    "    return np.corrcoef(target, pred)[0, 1] ** 2\n",
    "\n",
    "\n",
    "def RRMSE(target, pred):\n",
    "    num = np.sum((target - pred) ** 2)\n",
    "    den = np.sum((np.mean(target) - target) ** 2)\n",
    "    return np.sqrt(num/den)\n",
    "\n",
    "\n",
    "def RMSE(target, pred):\n",
    "    N = len(target)\n",
    "    return np.sqrt(np.sum((target-pred)**2)/N)"
   ]
  },
  {
   "cell_type": "code",
   "execution_count": 3,
   "metadata": {},
   "outputs": [],
   "source": [
    "data = pd.read_csv('ICMC_oxides_TEC.csv')\n",
    "data = data.iloc[:, 1:]\n",
    "X, y = data.iloc[:, :-1].values, data.iloc[:, -1].values"
   ]
  },
  {
   "cell_type": "code",
   "execution_count": 4,
   "metadata": {},
   "outputs": [
    {
     "name": "stdout",
     "output_type": "stream",
     "text": [
      "Fold 01\n",
      "Fold 02\n",
      "Fold 03\n",
      "Fold 04\n",
      "Fold 05\n",
      "Fold 06\n",
      "Fold 07\n",
      "Fold 08\n",
      "Fold 09\n",
      "Fold 10\n"
     ]
    }
   ],
   "source": [
    "rds = []\n",
    "r2s = []\n",
    "rrmses = []\n",
    "rmses = []\n",
    "\n",
    "kf = KFold(n_splits=10, random_state=1, shuffle=True)\n",
    "fold = 1\n",
    "for train_index, test_index in kf.split(X):\n",
    "    print('Fold {:02d}'.format(fold))\n",
    "    X_train, y_train = X[train_index], y[train_index]\n",
    "    X_test, y_test = X[test_index], y[test_index]\n",
    "    \n",
    "    y_train = np.log(y_train)\n",
    "    \n",
    "    rf = RandomForestRegressor(n_estimators=100)\n",
    "    rf.fit(X_train, y_train)\n",
    "    \n",
    "    preds = np.exp(rf.predict(X_test))\n",
    "    \n",
    "    rds.append(relative_deviation(y_test, preds))\n",
    "    r2s.append(R2(y_test, preds))\n",
    "    rrmses.append(RRMSE(y_test, preds))\n",
    "    rmses.append(RMSE(y_test, preds))\n",
    "    \n",
    "    fold += 1"
   ]
  },
  {
   "cell_type": "code",
   "execution_count": 5,
   "metadata": {},
   "outputs": [
    {
     "name": "stdout",
     "output_type": "stream",
     "text": [
      "RD: 7.435317881392902\n",
      "R2: 0.853601763520107\n",
      "RRMSE: 0.3849104091414469\n",
      "RMSE: 1.5672568771966914e-06\n"
     ]
    }
   ],
   "source": [
    "print('RD:', np.mean(rds))\n",
    "print('R2:', np.mean(r2s))\n",
    "print('RRMSE:', np.mean(rrmses))\n",
    "print('RMSE:', np.mean(rmses))"
   ]
  }
 ],
 "metadata": {
  "kernelspec": {
   "display_name": "Python 3",
   "language": "python",
   "name": "python3"
  },
  "language_info": {
   "codemirror_mode": {
    "name": "ipython",
    "version": 3
   },
   "file_extension": ".py",
   "mimetype": "text/x-python",
   "name": "python",
   "nbconvert_exporter": "python",
   "pygments_lexer": "ipython3",
   "version": "3.7.5"
  }
 },
 "nbformat": 4,
 "nbformat_minor": 4
}
